{
 "cells": [
  {
   "cell_type": "code",
   "execution_count": 1,
   "metadata": {},
   "outputs": [
    {
     "name": "stderr",
     "output_type": "stream",
     "text": [
      "Using TensorFlow backend.\n"
     ]
    }
   ],
   "source": [
    "import json\n",
    "import itertools\n",
    "import numpy as np\n",
    "from feature_utils import TensorMaker\n",
    "import time"
   ]
  },
  {
   "cell_type": "code",
   "execution_count": 2,
   "metadata": {},
   "outputs": [],
   "source": [
    "def convert_keys(data):\n",
    "    if isinstance(data, dict):\n",
    "        if 'data' in data.keys():\n",
    "            temp = {}\n",
    "            for k, v in data['data'].items(): temp[int(k)] = v\n",
    "            data['data'] = temp\n",
    "            return data\n",
    "        else:\n",
    "            return data\n",
    "    else:\n",
    "        return data\n",
    "\n",
    "# load CoNLL2003\n",
    "train = json.load(open('data/conll2003/en/train.json'), object_hook = convert_keys)\n",
    "valid = json.load(open('data/conll2003/en/valid.json'), object_hook = convert_keys)\n",
    "test = json.load(open('data/conll2003/en/test.json'), object_hook = convert_keys)"
   ]
  },
  {
   "cell_type": "code",
   "execution_count": 3,
   "metadata": {},
   "outputs": [
    {
     "name": "stdout",
     "output_type": "stream",
     "text": [
      "Creating vocabularies...\n",
      "Initializing TensorMaker...\n"
     ]
    }
   ],
   "source": [
    "print(\"Creating vocabularies...\")\n",
    "\n",
    "WORDS, TAGS = list(), list()\n",
    "for _, d in itertools.chain(train['data'].items(), valid['data'].items(), test['data'].items()):\n",
    "    for w in d['sentence']:\n",
    "        if w.lower() not in WORDS: WORDS.append(w.lower())\n",
    "            \n",
    "    for t in d['tags']:\n",
    "        if t not in TAGS: TAGS.append(t)\n",
    "        \n",
    "        \n",
    "##### initialize TensorMaker ######\n",
    "\n",
    "print(\"Initializing TensorMaker...\")\n",
    "\n",
    "MAX_LEN_SENT = 125   # maximum sentence length\n",
    "MAX_LEN_WORD = 25    # maximum word length\n",
    "\n",
    "TM = TensorMaker(WORDS, TAGS, max_len_word=MAX_LEN_WORD, word_padding='post', word_truncating='post')"
   ]
  },
  {
   "cell_type": "code",
   "execution_count": 4,
   "metadata": {},
   "outputs": [
    {
     "name": "stdout",
     "output_type": "stream",
     "text": [
      "Loading word embeddings...\n"
     ]
    }
   ],
   "source": [
    "print(\"Loading word embeddings...\")\n",
    "\n",
    "d = 50\n",
    "emb_dir = 'embeddings/glove.6B/glove.6B.{}d.txt'.format(d)\n",
    "\n",
    "e = open(emb_dir, encoding='UTF-8')\n",
    "\n",
    "embeddings = dict()\n",
    "for line in e:\n",
    "    values = line.split()\n",
    "    word = values[0]\n",
    "    coef = np.asarray(values[1:], dtype='float32')\n",
    "    embeddings[word] = coef\n",
    "    \n",
    "e.close()\n",
    "\n",
    "embedding_dim = (len(TM.word2idx), d)\n",
    "E = np.zeros(embedding_dim)\n",
    "\n",
    "for i, w in enumerate(TM.word2idx):\n",
    "    emb_vec = embeddings.get(w)\n",
    "    if emb_vec is not None:\n",
    "        E[i,:] = emb_vec\n",
    "\n"
   ]
  },
  {
   "cell_type": "code",
   "execution_count": 5,
   "metadata": {},
   "outputs": [
    {
     "name": "stdout",
     "output_type": "stream",
     "text": [
      "Defining model...\n"
     ]
    }
   ],
   "source": [
    "WORD_EMBEDDING_LAYER = 8\n",
    "\n",
    "print(\"Defining model...\")\n",
    "\n",
    "from models.blstm_cnn_crf_word_features_model import blstm_cnn_wd_ft_ner\n",
    "from models.blstm_crf_model import blstm_ner\n",
    "from keras_contrib.layers import CRF\n",
    "from keras_contrib.losses import crf_loss\n",
    "from keras_contrib.metrics import crf_accuracy\n",
    "\n",
    "# model = blstm_ner(max_len_sent=MAX_LEN_SENT,\n",
    "#                   embedding_dims=embedding_dim,\n",
    "#                   num_tags=len(TM.tag2idx))\n",
    "\n",
    "model = blstm_cnn_wd_ft_ner(max_len_sent=MAX_LEN_SENT,\n",
    "                            max_len_word=MAX_LEN_WORD,\n",
    "                            num_tags=len(TM.tag2idx),\n",
    "                            word_embedding_dims=embedding_dim,\n",
    "                            char_embedding_dims=(len(TM.char2idx), 25),\n",
    "                            word_feature_embedding_dims=(6,10),\n",
    "                            main_dropout=0.25,\n",
    "                            char_dropout=0.25,\n",
    "                            recurrent_dropout=0.25)\n",
    "\n",
    "\n",
    "model.layers[WORD_EMBEDDING_LAYER].set_weights([E])\n",
    "model.layers[WORD_EMBEDDING_LAYER].trainable = False"
   ]
  },
  {
   "cell_type": "code",
   "execution_count": null,
   "metadata": {},
   "outputs": [],
   "source": [
    "BATCH_SIZE = 32\n",
    "\n",
    "\n",
    "from keras.callbacks import EarlyStopping, ModelCheckpoint, TensorBoard, Callback, ReduceLROnPlateau\n",
    "from keras.optimizers import RMSprop\n",
    "from generators import DataGenerator\n",
    "\n",
    "\n",
    "from validation import sentence_metrics\n",
    "from generators import TestDataGenerator\n",
    "#self, data, batch_size, tensor_maker, sentences, characters, word_features, tags):\n",
    "TG = TestDataGenerator(data=test['data'], batch_size=BATCH_SIZE, tensor_maker=TM, sentences=True, characters=True, word_features=True, tags=True)\n",
    "\n",
    "model.compile(optimizer=RMSprop(lr=0.005), loss=crf_loss, metrics=[crf_accuracy])\n",
    "\n",
    "early_stopping = EarlyStopping(monitor='val_crf_accuracy', min_delta=0.001, patience=9)\n",
    "reduce_on_plateau = ReduceLROnPlateau(monitor='val_crf_accuracy', \n",
    "                                      factor=0.2, \n",
    "                                      patience=5,\n",
    "                                      mode='max',\n",
    "                                      min_lr=0.0001)\n",
    "\n",
    "MODEL_NAME = time.time()\n",
    "checkpointer = ModelCheckpoint(filepath='./trained_models/model_{}'.format(MODEL_NAME), verbose=True, save_best_only=True)\n",
    "\n",
    "tb = TensorBoard(log_dir='./tf_logs/blstm_cnn_crf_{}'.format(time.time()),\n",
    "                 batch_size=BATCH_SIZE,\n",
    "                 write_grads=True,\n",
    "                 write_graph=False,\n",
    "                 histogram_freq=0)\n",
    "\n",
    "DG = DataGenerator(data=train['data'], batch_size=BATCH_SIZE, tensor_maker=TM, shuffle=True, sentences=True, characters=True, word_features=True, tags=True)\n",
    "VG = DataGenerator(data=valid['data'], batch_size=BATCH_SIZE, tensor_maker=TM, shuffle=True, sentences=True, characters=True, word_features=True, tags=True)\n"
   ]
  },
  {
   "cell_type": "code",
   "execution_count": null,
   "metadata": {},
   "outputs": [],
   "source": [
    "model.fit_generator(generator=DG,\n",
    "                    validation_data=VG,\n",
    "                    validation_steps=len(VG),\n",
    "                    steps_per_epoch=len(DG),\n",
    "                    epochs=75,\n",
    "                    callbacks=[early_stopping, tb, reduce_on_plateau, checkpointer],\n",
    "                    shuffle=True)"
   ]
  },
  {
   "cell_type": "code",
   "execution_count": 11,
   "metadata": {},
   "outputs": [
    {
     "name": "stdout",
     "output_type": "stream",
     "text": [
      "Validating on test data...\n",
      "             precision    recall  f1-score   support\n",
      "\n",
      "        LOC       0.79      0.82      0.81      1667\n",
      "        ORG       0.73      0.73      0.73      1661\n",
      "       MISC       0.66      0.66      0.66       702\n",
      "        PER       0.81      0.82      0.81      1616\n",
      "\n",
      "avg / total       0.76      0.77      0.77      5646\n",
      "\n"
     ]
    }
   ],
   "source": [
    "print(\"Validating on test data...\")\n",
    "\n",
    "#from validation import sentence_metrics\n",
    "from generators import TestDataGenerator\n",
    "from seqeval.metrics import classification_report\n",
    "\n",
    "TG = TestDataGenerator(test['data'], BATCH_SIZE, TM, True, True, True, True)\n",
    "\n",
    "actual, pred = list(), list()\n",
    "for batch in TG:\n",
    "    \n",
    "    X_data, Y_test = batch\n",
    "    Y_pred = model.predict_on_batch(X_data)\n",
    "    Y_pred, Y_test= np.argmax(Y_pred, axis = 2), np.argmax(Y_test, axis = 2)\n",
    "    \n",
    "    for i in range(Y_pred.shape[0]):\n",
    "        pred.append(TM.convert2tags(Y_pred[i, :]))\n",
    "        actual.append(TM.convert2tags(Y_test[i, :]))\n",
    "\n",
    "print(classification_report(actual, pred))"
   ]
  }
 ],
 "metadata": {
  "kernelspec": {
   "display_name": "Python 3",
   "language": "python",
   "name": "python3"
  },
  "language_info": {
   "codemirror_mode": {
    "name": "ipython",
    "version": 3
   },
   "file_extension": ".py",
   "mimetype": "text/x-python",
   "name": "python",
   "nbconvert_exporter": "python",
   "pygments_lexer": "ipython3",
   "version": "3.6.8"
  }
 },
 "nbformat": 4,
 "nbformat_minor": 2
}
